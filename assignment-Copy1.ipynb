{
 "cells": [
  {
   "cell_type": "code",
   "execution_count": 2,
   "metadata": {},
   "outputs": [
    {
     "name": "stdout",
     "output_type": "stream",
     "text": [
      "welcome\n"
     ]
    }
   ],
   "source": [
    "print('welcome')\n"
   ]
  },
  {
   "cell_type": "code",
   "execution_count": 4,
   "metadata": {},
   "outputs": [
    {
     "data": {
      "text/plain": [
       "str"
      ]
     },
     "execution_count": 4,
     "metadata": {},
     "output_type": "execute_result"
    }
   ],
   "source": [
    "a = \"i am noor ul huda shah\"\n",
    "type (a)"
   ]
  },
  {
   "cell_type": "code",
   "execution_count": 5,
   "metadata": {},
   "outputs": [
    {
     "name": "stdout",
     "output_type": "stream",
     "text": [
      "I am noor ul huda shah\n",
      "i am noor ul huda shah\n",
      "I AM NOOR UL HUDA SHAH\n",
      "I Am Noor Ul Huda Shah\n",
      "22\n",
      "i am noor ul huda shah\n",
      "i am noor ul huda shah\n",
      "i am noor ul huda shah\n",
      "hahs aduh lu roon ma i\n"
     ]
    }
   ],
   "source": [
    "print (a.capitalize()) # Only 1st letter will in uppercase\n",
    "print (a.lower())      # all lower characters\n",
    "print (a.upper())      # all upper characters\n",
    "print (a.title())      # First letter of each word in uppercase\n",
    "print (len(a))         # length of characters or whole sentence\n",
    "print (a.casefold())   # lower all characters\n",
    "#slicing (more than one value from list)\n",
    "#list[start:end:step]\n",
    "#tuple[start:end:step]\n",
    "#string[start:end:step] here our focus is on string\n",
    "print(a[::])           # if not given any start end or step value it will show whole string\n",
    "print(a[0:41:])        #total length 41 starting from 0 as default starting point is 0\n",
    "#if we want reverse values we can just right step as -1 lets check\n",
    "print(a[::-1])"
   ]
  },
  {
   "cell_type": "code",
   "execution_count": 6,
   "metadata": {},
   "outputs": [
    {
     "data": {
      "text/plain": [
       "'my name is noor ul huda shah'"
      ]
     },
     "execution_count": 6,
     "metadata": {},
     "output_type": "execute_result"
    }
   ],
   "source": [
    "a.replace(\"i am noor ul huda shah\",\"my name is noor ul huda shah\") #\"inline string value replacement\""
   ]
  },
  {
   "cell_type": "code",
   "execution_count": 7,
   "metadata": {},
   "outputs": [
    {
     "name": "stdout",
     "output_type": "stream",
     "text": [
      "i am noor ul huda shah\n"
     ]
    }
   ],
   "source": [
    "print(a)\n"
   ]
  },
  {
   "cell_type": "code",
   "execution_count": 8,
   "metadata": {},
   "outputs": [
    {
     "name": "stdout",
     "output_type": "stream",
     "text": [
      "     huda    shah         \n",
      "26\n",
      "huda    shah         \n",
      "21\n",
      "     huda    shah\n",
      "17\n",
      "huda    shah\n",
      "12\n",
      "['huda', 'shah']\n"
     ]
    }
   ],
   "source": [
    "#if having extra spaces in string how to remove lets check with lstrip, rstrip and spilt options\n",
    "b = \"     huda    shah         \"\n",
    "print (b)\n",
    "print(len(b))\n",
    "print (b.lstrip()) #lstrip used to remove spaces from left side of string\n",
    "print (len(b.lstrip()))  #to check length after removing leftside spaces\n",
    "print (b.rstrip()) #rstrip used to remove spaces from right side of string\n",
    "print (len(b.rstrip()))#to check length after removing rightside spaces\n",
    "print (b.strip()) #function strip remove extra spaces from both sides\n",
    "print (len(b.strip()))\n",
    "c = b.split() #to remove extra spaces we have converted string into list\n",
    "print (c)"
   ]
  },
  {
   "cell_type": "code",
   "execution_count": 9,
   "metadata": {},
   "outputs": [
    {
     "data": {
      "text/plain": [
       "'huda shah'"
      ]
     },
     "execution_count": 9,
     "metadata": {},
     "output_type": "execute_result"
    }
   ],
   "source": [
    "\" \".join(c)"
   ]
  },
  {
   "cell_type": "code",
   "execution_count": 10,
   "metadata": {},
   "outputs": [
    {
     "name": "stdout",
     "output_type": "stream",
     "text": [
      "True\n",
      "False\n",
      "False\n",
      "True\n"
     ]
    }
   ],
   "source": [
    "#isupper and islower function\n",
    "x = \"HUDA\"\n",
    "y = \"huda\"\n",
    "print (x.isupper()) #it will show true because all characters are in uppercase\n",
    "print (y.isupper()) #it will return false becase all characters are in lowercasse\n",
    "print (x.islower()) #it will return false because all characters are in uppercase we are checking lower characters here\n",
    "print (y.islower()) #it will return true becase all characters are in lowercasse"
   ]
  },
  {
   "cell_type": "code",
   "execution_count": 11,
   "metadata": {},
   "outputs": [
    {
     "name": "stdout",
     "output_type": "stream",
     "text": [
      "True\n",
      "False\n",
      "False\n",
      "False\n"
     ]
    }
   ],
   "source": [
    "#isspace function to check white spaces in string\n",
    "r = \"      \\n\"\n",
    "s = \" a\"\n",
    "print (r.isspace())\n",
    "print (s.isspace())\n",
    "\n",
    "#let check istitle function\n",
    "str1 = \"write your name:\"\n",
    "str2 = \"write your name:\"\n",
    "print(str1.istitle()) #it will return true because str1 contain only title sentense\n",
    "print(str2.istitle()) #it will return false"
   ]
  },
  {
   "cell_type": "code",
   "execution_count": 13,
   "metadata": {},
   "outputs": [
    {
     "name": "stdout",
     "output_type": "stream",
     "text": [
      "\n",
      "BHARIA UNIVERSITY\n",
      "Name: Noor Ul Huda Shah\n",
      "Father's Name: Sher Aman \n",
      "program: PIAIC\n",
      "SCORE:  300\n",
      "\n"
     ]
    }
   ],
   "source": [
    "#format function\n",
    "name = \"Noor Ul Huda Shah\"\n",
    "fname = \"Sher Aman\"\n",
    "program = \"PIAIC\"\n",
    "score = 300\n",
    "card = \"\"\"\n",
    "BHARIA UNIVERSITY\n",
    "Name: {}\n",
    "Father's Name: {} \n",
    "program: {}\n",
    "SCORE:  {}\n",
    "\"\"\"\n",
    "print(card.format(name, fname, program, score))"
   ]
  },
  {
   "cell_type": "code",
   "execution_count": 14,
   "metadata": {},
   "outputs": [
    {
     "name": "stdout",
     "output_type": "stream",
     "text": [
      "the count is :  0\n"
     ]
    }
   ],
   "source": [
    "#count function, is used to count characters in string it is character sensitive\n",
    "a = \"i am studying phython in artifical intelligence class\"\n",
    "b = \"AI\"\n",
    "count = a.count(b)\n",
    "print (\"the count is : \", count) #here we are counting required words or characters"
   ]
  },
  {
   "cell_type": "code",
   "execution_count": 15,
   "metadata": {},
   "outputs": [
    {
     "name": "stdout",
     "output_type": "stream",
     "text": [
      "0000020\n"
     ]
    }
   ],
   "source": [
    "#Zfill it will fill with zeros untill string value comes\n",
    "x = \"20\"\n",
    "print (x.zfill(7)) #given value 7 is total value including string value"
   ]
  },
  {
   "cell_type": "code",
   "execution_count": 16,
   "metadata": {},
   "outputs": [
    {
     "name": "stdout",
     "output_type": "stream",
     "text": [
      "             huda             \n",
      "****************************huda****************************\n"
     ]
    }
   ],
   "source": [
    "#text center\n",
    "txt = \"huda\"\n",
    "print (txt.center(30)) #this is used to center align text we can use * or any characher with it let c\n",
    "print (txt.center(60,\"*\"))"
   ]
  },
  {
   "cell_type": "code",
   "execution_count": 17,
   "metadata": {},
   "outputs": [
    {
     "name": "stdout",
     "output_type": "stream",
     "text": [
      "False\n",
      "True\n"
     ]
    }
   ],
   "source": [
    "name = \"Noor Ul Huda Shah\"\n",
    "#endswith function\n",
    "print (name.endswith('n')) #it will return false because last character is not n\n",
    "print (name.endswith('h')) #last character is h thats why returned true"
   ]
  },
  {
   "cell_type": "code",
   "execution_count": 1,
   "metadata": {},
   "outputs": [
    {
     "ename": "SyntaxError",
     "evalue": "invalid syntax (<ipython-input-1-da16872b8ce1>, line 1)",
     "output_type": "error",
     "traceback": [
      "\u001b[1;36m  File \u001b[1;32m\"<ipython-input-1-da16872b8ce1>\"\u001b[1;36m, line \u001b[1;32m1\u001b[0m\n\u001b[1;33m    gitpush -u origin master\u001b[0m\n\u001b[1;37m                    ^\u001b[0m\n\u001b[1;31mSyntaxError\u001b[0m\u001b[1;31m:\u001b[0m invalid syntax\n"
     ]
    }
   ],
   "source": [
    "gitpush -u origin master"
   ]
  },
  {
   "cell_type": "code",
   "execution_count": null,
   "metadata": {},
   "outputs": [],
   "source": []
  }
 ],
 "metadata": {
  "kernelspec": {
   "display_name": "Python 3",
   "language": "python",
   "name": "python3"
  },
  "language_info": {
   "codemirror_mode": {
    "name": "ipython",
    "version": 3
   },
   "file_extension": ".py",
   "mimetype": "text/x-python",
   "name": "python",
   "nbconvert_exporter": "python",
   "pygments_lexer": "ipython3",
   "version": "3.7.4"
  }
 },
 "nbformat": 4,
 "nbformat_minor": 2
}
